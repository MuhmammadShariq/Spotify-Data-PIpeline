{
 "cells": [
  {
   "cell_type": "code",
   "execution_count": 5,
   "metadata": {},
   "outputs": [
    {
     "name": "stdout",
     "output_type": "stream",
     "text": [
      "Requirement already satisfied: spotipy in c:\\python\\lib\\site-packages (2.24.0)\n",
      "Requirement already satisfied: redis>=3.5.3 in c:\\python\\lib\\site-packages (from spotipy) (5.2.1)\n",
      "Requirement already satisfied: requests>=2.25.0 in c:\\python\\lib\\site-packages (from spotipy) (2.32.2)\n",
      "Requirement already satisfied: urllib3>=1.26.0 in c:\\python\\lib\\site-packages (from spotipy) (2.2.2)\n",
      "Requirement already satisfied: charset-normalizer<4,>=2 in c:\\python\\lib\\site-packages (from requests>=2.25.0->spotipy) (2.0.4)\n",
      "Requirement already satisfied: idna<4,>=2.5 in c:\\python\\lib\\site-packages (from requests>=2.25.0->spotipy) (3.7)\n",
      "Requirement already satisfied: certifi>=2017.4.17 in c:\\python\\lib\\site-packages (from requests>=2.25.0->spotipy) (2024.6.2)\n"
     ]
    }
   ],
   "source": [
    "!pip install spotipy"
   ]
  },
  {
   "cell_type": "code",
   "execution_count": 6,
   "metadata": {},
   "outputs": [],
   "source": [
    "import spotipy\n",
    "from spotipy.oauth2 import SpotifyClientCredentials\n",
    "import pandas as pd"
   ]
  },
  {
   "cell_type": "code",
   "execution_count": 7,
   "metadata": {},
   "outputs": [],
   "source": [
    "client_credentials_manager = SpotifyClientCredentials(client_id='e7ac682754c24faabf63957d3469ae80', client_secret='5cc3df33f7d74513aa97baaf6ac1c34c')"
   ]
  },
  {
   "cell_type": "code",
   "execution_count": 8,
   "metadata": {},
   "outputs": [],
   "source": [
    "sp = spotipy.Spotify(client_credentials_manager = client_credentials_manager)"
   ]
  },
  {
   "cell_type": "code",
   "execution_count": 9,
   "metadata": {},
   "outputs": [
    {
     "data": {
      "text/plain": [
       "'0Zn4GrOGecwomn66XDDHHO'"
      ]
     },
     "execution_count": 9,
     "metadata": {},
     "output_type": "execute_result"
    }
   ],
   "source": [
    "playlist_link = 'https://open.spotify.com/playlist/0Zn4GrOGecwomn66XDDHHO'\n",
    "playlist_URI = playlist_link.split('/')[-1]\n",
    "playlist_URI"
   ]
  },
  {
   "cell_type": "code",
   "execution_count": 10,
   "metadata": {},
   "outputs": [
    {
     "data": {
      "text/plain": [
       "'0Zn4GrOGecwomn66XDDHHO'"
      ]
     },
     "execution_count": 10,
     "metadata": {},
     "output_type": "execute_result"
    }
   ],
   "source": [
    "playlist_URI2 = playlist_link.split(\"/\")[-1].split(\"?\")[0]\n",
    "playlist_URI2"
   ]
  },
  {
   "cell_type": "code",
   "execution_count": 11,
   "metadata": {},
   "outputs": [],
   "source": [
    "data = sp.playlist_tracks(playlist_URI)"
   ]
  },
  {
   "cell_type": "code",
   "execution_count": 12,
   "metadata": {},
   "outputs": [
    {
     "data": {
      "text/plain": [
       "'6BHlJhCk1vjCG6hqTG2SFV'"
      ]
     },
     "execution_count": 12,
     "metadata": {},
     "output_type": "execute_result"
    }
   ],
   "source": [
    "data['items'][0]['track']['album']['id']"
   ]
  },
  {
   "cell_type": "code",
   "execution_count": 13,
   "metadata": {},
   "outputs": [
    {
     "data": {
      "text/plain": [
       "'Kahani Suno 2.0'"
      ]
     },
     "execution_count": 13,
     "metadata": {},
     "output_type": "execute_result"
    }
   ],
   "source": [
    "data['items'][0]['track']['album']['name']"
   ]
  },
  {
   "cell_type": "code",
   "execution_count": 14,
   "metadata": {},
   "outputs": [
    {
     "data": {
      "text/plain": [
       "'2022-05-31'"
      ]
     },
     "execution_count": 14,
     "metadata": {},
     "output_type": "execute_result"
    }
   ],
   "source": [
    "data['items'][0]['track']['album']['release_date']"
   ]
  },
  {
   "cell_type": "code",
   "execution_count": 15,
   "metadata": {},
   "outputs": [
    {
     "data": {
      "text/plain": [
       "1"
      ]
     },
     "execution_count": 15,
     "metadata": {},
     "output_type": "execute_result"
    }
   ],
   "source": [
    "data['items'][0]['track']['album']['total_tracks']"
   ]
  },
  {
   "cell_type": "code",
   "execution_count": 16,
   "metadata": {},
   "outputs": [
    {
     "data": {
      "text/plain": [
       "'https://open.spotify.com/album/6BHlJhCk1vjCG6hqTG2SFV'"
      ]
     },
     "execution_count": 16,
     "metadata": {},
     "output_type": "execute_result"
    }
   ],
   "source": [
    "data['items'][0]['track']['album']['external_urls']['spotify']"
   ]
  },
  {
   "cell_type": "code",
   "execution_count": 17,
   "metadata": {},
   "outputs": [
    {
     "data": {
      "text/plain": [
       "[{'album_id': '6BHlJhCk1vjCG6hqTG2SFV',\n",
       "  'name': 'Kahani Suno 2.0',\n",
       "  'release_date': '2022-05-31',\n",
       "  'total_tracks': 1,\n",
       "  'url': 'https://open.spotify.com/album/6BHlJhCk1vjCG6hqTG2SFV'},\n",
       " {'album_id': '1rbTFWa6pVztLGlJzW0ABx',\n",
       "  'name': 'Gumaan',\n",
       "  'release_date': '2020-09-18',\n",
       "  'total_tracks': 1,\n",
       "  'url': 'https://open.spotify.com/album/1rbTFWa6pVztLGlJzW0ABx'}]"
      ]
     },
     "execution_count": 17,
     "metadata": {},
     "output_type": "execute_result"
    }
   ],
   "source": [
    "album_list = []\n",
    "for row in data['items']:\n",
    "    album_id = row['track']['album']['id']\n",
    "    album_name = row['track']['album']['name']\n",
    "    album_release_date = row['track']['album']['release_date']\n",
    "    album_total_tracks = row['track']['album']['total_tracks']\n",
    "    album_url = row['track']['album']['external_urls']['spotify']\n",
    "    album_element = {'album_id':album_id,'name':album_name,'release_date':album_release_date,\n",
    "                        'total_tracks':album_total_tracks,'url':album_url}\n",
    "    album_list.append(album_element)\n",
    "    \n",
    "album_list"
   ]
  },
  {
   "cell_type": "code",
   "execution_count": 18,
   "metadata": {},
   "outputs": [
    {
     "data": {
      "text/plain": [
       "[{'artist_id': '1n9EM0Y4A89vuRiA93gSS9',\n",
       "  'artist_name': 'Kaifi Khalil',\n",
       "  'external_url': 'https://api.spotify.com/v1/artists/1n9EM0Y4A89vuRiA93gSS9'},\n",
       " {'artist_id': '01PyusFVbXgoD5Kl1mR8CC',\n",
       "  'artist_name': 'Young Stunners',\n",
       "  'external_url': 'https://api.spotify.com/v1/artists/01PyusFVbXgoD5Kl1mR8CC'},\n",
       " {'artist_id': '69xcFpmqTOmFNOL08Bxyci',\n",
       "  'artist_name': 'Talha Anjum',\n",
       "  'external_url': 'https://api.spotify.com/v1/artists/69xcFpmqTOmFNOL08Bxyci'},\n",
       " {'artist_id': '3mGW1eoqwNtCxd8R3hIOM5',\n",
       "  'artist_name': 'Talhah Yunus',\n",
       "  'external_url': 'https://api.spotify.com/v1/artists/3mGW1eoqwNtCxd8R3hIOM5'}]"
      ]
     },
     "execution_count": 18,
     "metadata": {},
     "output_type": "execute_result"
    }
   ],
   "source": [
    "artist_list = []\n",
    "for row in data['items']:\n",
    "    for key, value in row.items():\n",
    "        if key == \"track\":\n",
    "            for artist in value['artists']:\n",
    "                artist_dict = {'artist_id':artist['id'], 'artist_name':artist['name'], 'external_url': artist['href']}\n",
    "                artist_list.append(artist_dict)\n",
    "                \n",
    "artist_list"
   ]
  },
  {
   "cell_type": "code",
   "execution_count": 19,
   "metadata": {},
   "outputs": [
    {
     "data": {
      "text/plain": [
       "[{'song_id': '4VsP4Dm8gsibRxB5I2hEkw',\n",
       "  'song_name': 'Kahani Suno 2.0',\n",
       "  'duration_ms': 173637,\n",
       "  'url': 'https://open.spotify.com/track/4VsP4Dm8gsibRxB5I2hEkw',\n",
       "  'popularity': 71,\n",
       "  'song_added': '2024-12-08T16:51:23Z',\n",
       "  'album_id': '6BHlJhCk1vjCG6hqTG2SFV',\n",
       "  'artist_id': '1n9EM0Y4A89vuRiA93gSS9'},\n",
       " {'song_id': '6cdiviyVL3tFYE1eDcmUzL',\n",
       "  'song_name': 'Gumaan',\n",
       "  'duration_ms': 260173,\n",
       "  'url': 'https://open.spotify.com/track/6cdiviyVL3tFYE1eDcmUzL',\n",
       "  'popularity': 64,\n",
       "  'song_added': '2024-12-08T17:05:43Z',\n",
       "  'album_id': '1rbTFWa6pVztLGlJzW0ABx',\n",
       "  'artist_id': '01PyusFVbXgoD5Kl1mR8CC'}]"
      ]
     },
     "execution_count": 19,
     "metadata": {},
     "output_type": "execute_result"
    }
   ],
   "source": [
    "song_list = []\n",
    "for row in data['items']:\n",
    "    song_id = row['track']['id']\n",
    "    song_name = row['track']['name']\n",
    "    song_duration = row['track']['duration_ms']\n",
    "    song_url = row['track']['external_urls']['spotify']\n",
    "    song_popularity = row['track']['popularity']\n",
    "    song_added = row['added_at']\n",
    "    album_id = row['track']['album']['id']\n",
    "    artist_id = row['track']['album']['artists'][0]['id']\n",
    "    song_element = {'song_id':song_id,'song_name':song_name,'duration_ms':song_duration,'url':song_url,\n",
    "                    'popularity':song_popularity,'song_added':song_added,'album_id':album_id,\n",
    "                    'artist_id':artist_id}\n",
    "    song_list.append(song_element)\n",
    "    \n",
    "song_list"
   ]
  },
  {
   "cell_type": "code",
   "execution_count": 20,
   "metadata": {},
   "outputs": [
    {
     "data": {
      "text/html": [
       "<div>\n",
       "<style scoped>\n",
       "    .dataframe tbody tr th:only-of-type {\n",
       "        vertical-align: middle;\n",
       "    }\n",
       "\n",
       "    .dataframe tbody tr th {\n",
       "        vertical-align: top;\n",
       "    }\n",
       "\n",
       "    .dataframe thead th {\n",
       "        text-align: right;\n",
       "    }\n",
       "</style>\n",
       "<table border=\"1\" class=\"dataframe\">\n",
       "  <thead>\n",
       "    <tr style=\"text-align: right;\">\n",
       "      <th></th>\n",
       "      <th>album_id</th>\n",
       "      <th>name</th>\n",
       "      <th>release_date</th>\n",
       "      <th>total_tracks</th>\n",
       "      <th>url</th>\n",
       "    </tr>\n",
       "  </thead>\n",
       "  <tbody>\n",
       "    <tr>\n",
       "      <th>0</th>\n",
       "      <td>6BHlJhCk1vjCG6hqTG2SFV</td>\n",
       "      <td>Kahani Suno 2.0</td>\n",
       "      <td>2022-05-31</td>\n",
       "      <td>1</td>\n",
       "      <td>https://open.spotify.com/album/6BHlJhCk1vjCG6h...</td>\n",
       "    </tr>\n",
       "    <tr>\n",
       "      <th>1</th>\n",
       "      <td>1rbTFWa6pVztLGlJzW0ABx</td>\n",
       "      <td>Gumaan</td>\n",
       "      <td>2020-09-18</td>\n",
       "      <td>1</td>\n",
       "      <td>https://open.spotify.com/album/1rbTFWa6pVztLGl...</td>\n",
       "    </tr>\n",
       "  </tbody>\n",
       "</table>\n",
       "</div>"
      ],
      "text/plain": [
       "                 album_id             name release_date  total_tracks  \\\n",
       "0  6BHlJhCk1vjCG6hqTG2SFV  Kahani Suno 2.0   2022-05-31             1   \n",
       "1  1rbTFWa6pVztLGlJzW0ABx           Gumaan   2020-09-18             1   \n",
       "\n",
       "                                                 url  \n",
       "0  https://open.spotify.com/album/6BHlJhCk1vjCG6h...  \n",
       "1  https://open.spotify.com/album/1rbTFWa6pVztLGl...  "
      ]
     },
     "execution_count": 20,
     "metadata": {},
     "output_type": "execute_result"
    }
   ],
   "source": [
    "album_df = pd.DataFrame.from_dict(album_list)\n",
    "album_df.head()"
   ]
  },
  {
   "cell_type": "code",
   "execution_count": 21,
   "metadata": {},
   "outputs": [],
   "source": [
    "album_df = album_df.drop_duplicates(subset=['album_id'])"
   ]
  },
  {
   "cell_type": "code",
   "execution_count": 22,
   "metadata": {},
   "outputs": [
    {
     "data": {
      "text/html": [
       "<div>\n",
       "<style scoped>\n",
       "    .dataframe tbody tr th:only-of-type {\n",
       "        vertical-align: middle;\n",
       "    }\n",
       "\n",
       "    .dataframe tbody tr th {\n",
       "        vertical-align: top;\n",
       "    }\n",
       "\n",
       "    .dataframe thead th {\n",
       "        text-align: right;\n",
       "    }\n",
       "</style>\n",
       "<table border=\"1\" class=\"dataframe\">\n",
       "  <thead>\n",
       "    <tr style=\"text-align: right;\">\n",
       "      <th></th>\n",
       "      <th>artist_id</th>\n",
       "      <th>artist_name</th>\n",
       "      <th>external_url</th>\n",
       "    </tr>\n",
       "  </thead>\n",
       "  <tbody>\n",
       "    <tr>\n",
       "      <th>0</th>\n",
       "      <td>1n9EM0Y4A89vuRiA93gSS9</td>\n",
       "      <td>Kaifi Khalil</td>\n",
       "      <td>https://api.spotify.com/v1/artists/1n9EM0Y4A89...</td>\n",
       "    </tr>\n",
       "    <tr>\n",
       "      <th>1</th>\n",
       "      <td>01PyusFVbXgoD5Kl1mR8CC</td>\n",
       "      <td>Young Stunners</td>\n",
       "      <td>https://api.spotify.com/v1/artists/01PyusFVbXg...</td>\n",
       "    </tr>\n",
       "    <tr>\n",
       "      <th>2</th>\n",
       "      <td>69xcFpmqTOmFNOL08Bxyci</td>\n",
       "      <td>Talha Anjum</td>\n",
       "      <td>https://api.spotify.com/v1/artists/69xcFpmqTOm...</td>\n",
       "    </tr>\n",
       "    <tr>\n",
       "      <th>3</th>\n",
       "      <td>3mGW1eoqwNtCxd8R3hIOM5</td>\n",
       "      <td>Talhah Yunus</td>\n",
       "      <td>https://api.spotify.com/v1/artists/3mGW1eoqwNt...</td>\n",
       "    </tr>\n",
       "  </tbody>\n",
       "</table>\n",
       "</div>"
      ],
      "text/plain": [
       "                artist_id     artist_name  \\\n",
       "0  1n9EM0Y4A89vuRiA93gSS9    Kaifi Khalil   \n",
       "1  01PyusFVbXgoD5Kl1mR8CC  Young Stunners   \n",
       "2  69xcFpmqTOmFNOL08Bxyci     Talha Anjum   \n",
       "3  3mGW1eoqwNtCxd8R3hIOM5    Talhah Yunus   \n",
       "\n",
       "                                        external_url  \n",
       "0  https://api.spotify.com/v1/artists/1n9EM0Y4A89...  \n",
       "1  https://api.spotify.com/v1/artists/01PyusFVbXg...  \n",
       "2  https://api.spotify.com/v1/artists/69xcFpmqTOm...  \n",
       "3  https://api.spotify.com/v1/artists/3mGW1eoqwNt...  "
      ]
     },
     "execution_count": 22,
     "metadata": {},
     "output_type": "execute_result"
    }
   ],
   "source": [
    "artist_df = pd.DataFrame.from_dict(artist_list)\n",
    "artist_df.head()"
   ]
  },
  {
   "cell_type": "code",
   "execution_count": 23,
   "metadata": {},
   "outputs": [],
   "source": [
    "artist_df = artist_df.drop_duplicates(subset=['artist_id'])"
   ]
  },
  {
   "cell_type": "code",
   "execution_count": 24,
   "metadata": {},
   "outputs": [
    {
     "data": {
      "text/html": [
       "<div>\n",
       "<style scoped>\n",
       "    .dataframe tbody tr th:only-of-type {\n",
       "        vertical-align: middle;\n",
       "    }\n",
       "\n",
       "    .dataframe tbody tr th {\n",
       "        vertical-align: top;\n",
       "    }\n",
       "\n",
       "    .dataframe thead th {\n",
       "        text-align: right;\n",
       "    }\n",
       "</style>\n",
       "<table border=\"1\" class=\"dataframe\">\n",
       "  <thead>\n",
       "    <tr style=\"text-align: right;\">\n",
       "      <th></th>\n",
       "      <th>song_id</th>\n",
       "      <th>song_name</th>\n",
       "      <th>duration_ms</th>\n",
       "      <th>url</th>\n",
       "      <th>popularity</th>\n",
       "      <th>song_added</th>\n",
       "      <th>album_id</th>\n",
       "      <th>artist_id</th>\n",
       "    </tr>\n",
       "  </thead>\n",
       "  <tbody>\n",
       "    <tr>\n",
       "      <th>0</th>\n",
       "      <td>4VsP4Dm8gsibRxB5I2hEkw</td>\n",
       "      <td>Kahani Suno 2.0</td>\n",
       "      <td>173637</td>\n",
       "      <td>https://open.spotify.com/track/4VsP4Dm8gsibRxB...</td>\n",
       "      <td>71</td>\n",
       "      <td>2024-12-08T16:51:23Z</td>\n",
       "      <td>6BHlJhCk1vjCG6hqTG2SFV</td>\n",
       "      <td>1n9EM0Y4A89vuRiA93gSS9</td>\n",
       "    </tr>\n",
       "    <tr>\n",
       "      <th>1</th>\n",
       "      <td>6cdiviyVL3tFYE1eDcmUzL</td>\n",
       "      <td>Gumaan</td>\n",
       "      <td>260173</td>\n",
       "      <td>https://open.spotify.com/track/6cdiviyVL3tFYE1...</td>\n",
       "      <td>64</td>\n",
       "      <td>2024-12-08T17:05:43Z</td>\n",
       "      <td>1rbTFWa6pVztLGlJzW0ABx</td>\n",
       "      <td>01PyusFVbXgoD5Kl1mR8CC</td>\n",
       "    </tr>\n",
       "  </tbody>\n",
       "</table>\n",
       "</div>"
      ],
      "text/plain": [
       "                  song_id        song_name  duration_ms  \\\n",
       "0  4VsP4Dm8gsibRxB5I2hEkw  Kahani Suno 2.0       173637   \n",
       "1  6cdiviyVL3tFYE1eDcmUzL           Gumaan       260173   \n",
       "\n",
       "                                                 url  popularity  \\\n",
       "0  https://open.spotify.com/track/4VsP4Dm8gsibRxB...          71   \n",
       "1  https://open.spotify.com/track/6cdiviyVL3tFYE1...          64   \n",
       "\n",
       "             song_added                album_id               artist_id  \n",
       "0  2024-12-08T16:51:23Z  6BHlJhCk1vjCG6hqTG2SFV  1n9EM0Y4A89vuRiA93gSS9  \n",
       "1  2024-12-08T17:05:43Z  1rbTFWa6pVztLGlJzW0ABx  01PyusFVbXgoD5Kl1mR8CC  "
      ]
     },
     "execution_count": 24,
     "metadata": {},
     "output_type": "execute_result"
    }
   ],
   "source": [
    "song_df = pd.DataFrame.from_dict(song_list)\n",
    "song_df.head()"
   ]
  },
  {
   "cell_type": "code",
   "execution_count": 25,
   "metadata": {},
   "outputs": [],
   "source": [
    "album_df['release_date'] = pd.to_datetime(album_df['release_date'])"
   ]
  },
  {
   "cell_type": "code",
   "execution_count": 26,
   "metadata": {},
   "outputs": [],
   "source": [
    "song_df['song_added'] =  pd.to_datetime(song_df['song_added'])"
   ]
  },
  {
   "cell_type": "code",
   "execution_count": null,
   "metadata": {},
   "outputs": [],
   "source": []
  }
 ],
 "metadata": {
  "kernelspec": {
   "display_name": "base",
   "language": "python",
   "name": "python3"
  },
  "language_info": {
   "codemirror_mode": {
    "name": "ipython",
    "version": 3
   },
   "file_extension": ".py",
   "mimetype": "text/x-python",
   "name": "python",
   "nbconvert_exporter": "python",
   "pygments_lexer": "ipython3",
   "version": "3.12.4"
  },
  "toc": {
   "base_numbering": 1,
   "nav_menu": {},
   "number_sections": true,
   "sideBar": true,
   "skip_h1_title": false,
   "title_cell": "Table of Contents",
   "title_sidebar": "Contents",
   "toc_cell": false,
   "toc_position": {},
   "toc_section_display": true,
   "toc_window_display": false
  },
  "varInspector": {
   "cols": {
    "lenName": 16,
    "lenType": 16,
    "lenVar": 40
   },
   "kernels_config": {
    "python": {
     "delete_cmd_postfix": "",
     "delete_cmd_prefix": "del ",
     "library": "var_list.py",
     "varRefreshCmd": "print(var_dic_list())"
    },
    "r": {
     "delete_cmd_postfix": ") ",
     "delete_cmd_prefix": "rm(",
     "library": "var_list.r",
     "varRefreshCmd": "cat(var_dic_list()) "
    }
   },
   "types_to_exclude": [
    "module",
    "function",
    "builtin_function_or_method",
    "instance",
    "_Feature"
   ],
   "window_display": false
  }
 },
 "nbformat": 4,
 "nbformat_minor": 4
}
